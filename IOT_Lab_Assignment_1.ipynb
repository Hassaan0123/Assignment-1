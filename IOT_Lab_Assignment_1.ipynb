{
  "nbformat": 4,
  "nbformat_minor": 0,
  "metadata": {
    "colab": {
      "name": "IOT Lab Assignment#1.ipynb",
      "provenance": [],
      "collapsed_sections": []
    },
    "kernelspec": {
      "name": "python3",
      "display_name": "Python 3"
    },
    "language_info": {
      "name": "python"
    }
  },
  "cells": [
    {
      "cell_type": "markdown",
      "source": [
        "Q1) Write a program to reverse an integer in Python."
      ],
      "metadata": {
        "id": "uaKBonAENiAs"
      }
    },
    {
      "cell_type": "code",
      "source": [
        "integer = input(\"Enter The Value: \")\n",
        "reverse = integer[::-1]\n",
        "print(\"Reversed Of The Value:\",reverse)"
      ],
      "metadata": {
        "colab": {
          "base_uri": "https://localhost:8080/"
        },
        "id": "hEgnuLc8emnp",
        "outputId": "c494053a-5bc9-4bac-f34e-38b1b4fb864a"
      },
      "execution_count": null,
      "outputs": [
        {
          "output_type": "stream",
          "name": "stdout",
          "text": [
            "Enter The Value: 123\n",
            "Reversed Of The Value: 321\n"
          ]
        }
      ]
    },
    {
      "cell_type": "markdown",
      "source": [
        "Q2) Write a program in Python to check whether an integer is\n",
        "Armstrong number or not."
      ],
      "metadata": {
        "id": "QRZHXJXdOA1o"
      }
    },
    {
      "cell_type": "code",
      "source": [
        "a = []\n",
        "b = input('Enter Number')\n",
        "for i in b:\n",
        "  a.append(i)\n",
        "print(a)\n",
        "\n",
        "c = []\n",
        "for j in range(len(a)):\n",
        "  c.append(int(a[j]))\n",
        "print(c)\n",
        "\n",
        "d = []\n",
        "for k in range(len(c)):\n",
        "  d.append(c[k]**3)\n",
        "print(d)\n",
        "\n",
        "final = sum(d)\n",
        "print(str(final))\n",
        "\n",
        "c=int(b)\n",
        "\n",
        "if (final==c):\n",
        "  print(b,\" Is An Armstrong Number\")\n",
        "elif (final!=c):\n",
        "  print(b,\" Is not An Armstrong Number\")\n",
        "else:\n",
        "  print(b,\" Is Wrong Input\")"
      ],
      "metadata": {
        "colab": {
          "base_uri": "https://localhost:8080/"
        },
        "id": "KhDvjbPXZzuE",
        "outputId": "6c3bcdfc-ebf9-4c4f-ab81-268b6fc010ee"
      },
      "execution_count": null,
      "outputs": [
        {
          "output_type": "stream",
          "name": "stdout",
          "text": [
            "Enter Number153\n",
            "['1', '5', '3']\n",
            "[1, 5, 3]\n",
            "[1, 125, 27]\n",
            "153\n",
            "153  Is An Armstrong Number\n"
          ]
        }
      ]
    },
    {
      "cell_type": "markdown",
      "source": [
        "Q3) Write a program in Python to check given number is prime\n",
        "or not."
      ],
      "metadata": {
        "id": "xtgYp0COOMXR"
      }
    },
    {
      "cell_type": "code",
      "source": [
        "num = int(input(\"Enter a number: \"))\n",
        "if num > 1:\n",
        "   for i in range(2,num):\n",
        "       if (num % i) == 0:\n",
        "           print(num,\"is not a prime number\")\n",
        "           break\n",
        "       else:\n",
        "         print(num,\"is a prime number\")       \n",
        "else:\n",
        "   print(num,\"is not a prime number\")"
      ],
      "metadata": {
        "id": "pjs3A_D0XR6C",
        "colab": {
          "base_uri": "https://localhost:8080/"
        },
        "outputId": "7659b4aa-fad3-4086-a42a-e26491d5f2d1"
      },
      "execution_count": 2,
      "outputs": [
        {
          "output_type": "stream",
          "name": "stdout",
          "text": [
            "Enter a number: 4\n",
            "4 is not a prime number\n"
          ]
        }
      ]
    },
    {
      "cell_type": "markdown",
      "source": [
        "Q4) Write a program in Python to print the Fibonacci series\n",
        "using iterative method."
      ],
      "metadata": {
        "id": "EXgsHnvtOKQ6"
      }
    },
    {
      "cell_type": "code",
      "source": [
        "num1 = 0\n",
        "num2 = 1\n",
        "n = int(input(\"Number For Fibonacci Series: \"))\n",
        "print(\"Fibonacci Series Are: \")\n",
        "for i in range(0,n):\n",
        "    if i<=1:\n",
        "        result=i\n",
        "    else:\n",
        "      result = num1 + num2\n",
        "      num1 = num2\n",
        "      num2 = result\n",
        "    print(result)"
      ],
      "metadata": {
        "id": "20o2dRteeC0A",
        "colab": {
          "base_uri": "https://localhost:8080/"
        },
        "outputId": "c3eaf69c-4574-468c-d13a-44f47e84bdf9"
      },
      "execution_count": null,
      "outputs": [
        {
          "output_type": "stream",
          "name": "stdout",
          "text": [
            "Number For Fibonacci Series: 8\n",
            "Fibonacci Series Are: \n",
            "0\n",
            "1\n",
            "1\n",
            "2\n",
            "3\n",
            "5\n",
            "8\n",
            "13\n"
          ]
        }
      ]
    },
    {
      "cell_type": "markdown",
      "source": [
        "Q5) Write a program in Python to check whether a number is\n",
        "palindrome or not using iterative method."
      ],
      "metadata": {
        "id": "B0uup5OSOTcK"
      }
    },
    {
      "cell_type": "code",
      "source": [
        "n = int(input(\"Enter Number: \"))\n",
        "reverse = 0\n",
        "num = n\n",
        "while num!=0:\n",
        "    reverse = reverse*10 + num%10;        \n",
        "    num=num//10;\n",
        "if reverse==n:\n",
        "    print(\"Number Is Palindrome\")\n",
        "else:\n",
        "    print(\"Number Is Not Palindrome\")"
      ],
      "metadata": {
        "id": "FzxEOVNvPmSH",
        "colab": {
          "base_uri": "https://localhost:8080/"
        },
        "outputId": "625e83b4-26d4-4776-da39-f12895136a04"
      },
      "execution_count": null,
      "outputs": [
        {
          "output_type": "stream",
          "name": "stdout",
          "text": [
            "Enter Number: 555\n",
            "Number Is Palindrome\n"
          ]
        }
      ]
    },
    {
      "cell_type": "markdown",
      "source": [
        "Q6) Write a program in Python to find greatest among three\n",
        "integers."
      ],
      "metadata": {
        "id": "WhRFxqcLXmiM"
      }
    },
    {
      "cell_type": "code",
      "source": [
        "num1 = int(input(\"First number: \"))\n",
        "num2 = int(input(\"Second number: \"))\n",
        "num3 = int(input(\"Third number: \"))\n",
        "\n",
        "if num1>=num2 and num1>=num3: \n",
        "\tprint(num1, \"num1 is Greatest\")\n",
        "if num2>=num1 and num2>=num3:\n",
        "\tprint(num2, \"num2 is Greatest\")\n",
        "if num3>=num1 and num3>=num2:\n",
        "\tprint(num3, \"num3 is Greatest\") "
      ],
      "metadata": {
        "id": "iScXm1cfXpKZ",
        "colab": {
          "base_uri": "https://localhost:8080/"
        },
        "outputId": "a76c2114-9e79-4e77-cc91-13f11f0241ab"
      },
      "execution_count": null,
      "outputs": [
        {
          "output_type": "stream",
          "name": "stdout",
          "text": [
            "First number: 23\n",
            "Second number: 45\n",
            "Third number: 20\n",
            "45 num2 is Greatest\n"
          ]
        }
      ]
    },
    {
      "cell_type": "markdown",
      "source": [
        "Q7) Write a program in Python to check if a number is binary?"
      ],
      "metadata": {
        "id": "ulMalhqbXsgr"
      }
    },
    {
      "cell_type": "code",
      "source": [
        "num = int(input(\"Enter Number: \"))\n",
        "while(num>0):\n",
        "    j=num%10\n",
        "    if j!=0 and j!=1:\n",
        "        print(\"Number Is Not Binary\")\n",
        "        break\n",
        "    num=num//10\n",
        "    if num==0:\n",
        "        print(\"Number is binary\") "
      ],
      "metadata": {
        "colab": {
          "base_uri": "https://localhost:8080/"
        },
        "id": "3m66WuvlXtzL",
        "outputId": "562df7db-671f-47e7-bd36-fcfeed5c951d"
      },
      "execution_count": null,
      "outputs": [
        {
          "output_type": "stream",
          "name": "stdout",
          "text": [
            "Enter Number: 10101\n",
            "Number is binary\n"
          ]
        }
      ]
    },
    {
      "cell_type": "markdown",
      "source": [
        "Q8) Write a program in Python to find sum of digits."
      ],
      "metadata": {
        "id": "R2eONVhNexEJ"
      }
    },
    {
      "cell_type": "code",
      "source": [
        "numbers = []\n",
        "for i in range(0,5):\n",
        "  numbers.append(int(input(\"Enter:\")))\n",
        "print(numbers)\n",
        "print(\"Sum of all numbers are:\",sum(numbers))"
      ],
      "metadata": {
        "colab": {
          "base_uri": "https://localhost:8080/"
        },
        "id": "3IqgqHq7eX2r",
        "outputId": "cb023540-ac48-4394-fd83-f8dbcc198bf6"
      },
      "execution_count": null,
      "outputs": [
        {
          "output_type": "stream",
          "name": "stdout",
          "text": [
            "Enter:121\n",
            "Enter:1236\n",
            "Enter:100\n",
            "Enter:101\n",
            "Enter:56\n",
            "[121, 1236, 100, 101, 56]\n",
            "Sum of all numbers are: 1614\n"
          ]
        }
      ]
    },
    {
      "cell_type": "markdown",
      "source": [
        "Q9) Write a program in Python to swap two numbers without using third variable?"
      ],
      "metadata": {
        "id": "n4dAx4tEpCMz"
      }
    },
    {
      "cell_type": "code",
      "source": [
        "num1 = int(input(\"Enter Number1: \"))\n",
        "num2 = int(input(\"Enter Number2: \"))\n",
        "\n",
        "print(\"\\nBefore Swapping\")\n",
        "print(\"Number1:\", num1)\n",
        "print(\"Number2:\", num2)\n",
        "\n",
        "num1 , num2 = num2 , num1\n",
        "\n",
        "print(\"\\nAfter Swapping\")\n",
        "print(\"Number1:\", num1)\n",
        "print(\"Number2:\", num2)"
      ],
      "metadata": {
        "id": "Vy2lwMVWo7Mk",
        "colab": {
          "base_uri": "https://localhost:8080/"
        },
        "outputId": "4c6a5c2a-9b60-4166-839f-55b7a6059c9d"
      },
      "execution_count": null,
      "outputs": [
        {
          "output_type": "stream",
          "name": "stdout",
          "text": [
            "Enter Number1: 20\n",
            "Enter Number2: 15\n",
            "\n",
            "Before Swapping\n",
            "Number1: 20\n",
            "Number2: 15\n",
            "\n",
            "After Swapping\n",
            "Number1: 15\n",
            "Number2: 20\n"
          ]
        }
      ]
    },
    {
      "cell_type": "markdown",
      "source": [
        "Q10) Write a program in Python to swap two numbers using third variable?"
      ],
      "metadata": {
        "id": "rvVbah_bbBds"
      }
    },
    {
      "cell_type": "code",
      "source": [
        "num1 = int(input(\"Enter Number1: \"))\n",
        "num2 = int(input(\"Enter Number2: \"))\n",
        "\n",
        "print(\"\\nBefore Swapping\")\n",
        "print(\"Number1:\", num1)\n",
        "print(\"Number2:\", num2)\n",
        "\n",
        "swap = num1\n",
        "num1 = num2\n",
        "num2 = swap\n",
        "\n",
        "print(\"\\nAfter Swapping\")\n",
        "print(\"Number1:\", num1)\n",
        "print(\"Number2:\", num2)"
      ],
      "metadata": {
        "colab": {
          "base_uri": "https://localhost:8080/"
        },
        "id": "qm5Gt62Sapf5",
        "outputId": "c3a7c7d3-8f25-441a-ac6c-6ceb6d8873e7"
      },
      "execution_count": null,
      "outputs": [
        {
          "output_type": "stream",
          "name": "stdout",
          "text": [
            "Enter Number1: 20\n",
            "Enter Number2: 40\n",
            "\n",
            "Before Swapping\n",
            "Number1: 20\n",
            "Number2: 40\n",
            "\n",
            "After Swapping\n",
            "Number1: 40\n",
            "Number2: 20\n"
          ]
        }
      ]
    },
    {
      "cell_type": "markdown",
      "source": [
        "Q11) Python Program to find the Average of numbers."
      ],
      "metadata": {
        "id": "JseCbD_9eLwE"
      }
    },
    {
      "cell_type": "code",
      "source": [
        "numbers = int(input(\"Enter quantity of numbers: \"))\n",
        "lst = []\n",
        "\n",
        "for i in range(0, numbers):\n",
        "  lst.append(int(input(\"Enter The Numbers: \")))\n",
        "print(\"\\nThe Average of your given numbers are: \",sum(lst) / numbers)"
      ],
      "metadata": {
        "colab": {
          "base_uri": "https://localhost:8080/"
        },
        "id": "w6p8zfNFs5iL",
        "outputId": "df5581f4-8046-42b0-9fbf-feef17b62503"
      },
      "execution_count": null,
      "outputs": [
        {
          "output_type": "stream",
          "name": "stdout",
          "text": [
            "Enter quantity of numbers: 5\n",
            "Enter The Numbers: 44\n",
            "Enter The Numbers: 55\n",
            "Enter The Numbers: 66\n",
            "Enter The Numbers: 77\n",
            "Enter The Numbers: 88\n",
            "\n",
            "The Average of your given numbers are:  66.0\n"
          ]
        }
      ]
    },
    {
      "cell_type": "markdown",
      "source": [
        "Q12) Python Program to calculate factorial using iterative method."
      ],
      "metadata": {
        "id": "SgBULlRkg1SI"
      }
    },
    {
      "cell_type": "code",
      "source": [
        "num = int(input(\"Enter a number: \"))    \n",
        "factorial = 1    \n",
        "if num < 0:    \n",
        "   print(\" Factorial does not exist for negative numbers\")    \n",
        "elif num == 0:    \n",
        "   print(\"The factorial of 0 is 1\")    \n",
        "else:    \n",
        "   for i in range(1,num + 1):    \n",
        "       factorial = factorial*i    \n",
        "   print(\"The factorial of\",num,\"is\",factorial)  "
      ],
      "metadata": {
        "colab": {
          "base_uri": "https://localhost:8080/"
        },
        "id": "AQJw7Vuyg1ws",
        "outputId": "5e5f7132-a58c-4c4b-9a92-210d43a2f315"
      },
      "execution_count": null,
      "outputs": [
        {
          "output_type": "stream",
          "name": "stdout",
          "text": [
            "Enter a number: 5\n",
            "The factorial of 5 is 120\n"
          ]
        }
      ]
    },
    {
      "cell_type": "markdown",
      "source": [
        "Q13) Python Program to calculate factorial."
      ],
      "metadata": {
        "id": "Gg16HZB1g9gJ"
      }
    },
    {
      "cell_type": "code",
      "source": [
        "def fact(n):  \n",
        "   if n == 1:  \n",
        "       return n  \n",
        "   else:  \n",
        "       return n*fact(n-1)\n",
        "\n",
        "num = int(input(\"Enter a whole number to find Factorial: \"))  \n",
        "if num < 0:  \n",
        "   print(\"Factorial can't be calculated for negative number\")  \n",
        "elif num == 0:  \n",
        "   print(\"Factorial of 0 is 1\")  \n",
        "else:  \n",
        "   print(\"Factorial of\",num,\"is\",fact(num)) "
      ],
      "metadata": {
        "colab": {
          "base_uri": "https://localhost:8080/"
        },
        "id": "6cgmFf-Sg22O",
        "outputId": "2d53b772-f035-4576-d464-0846d9a298f0"
      },
      "execution_count": null,
      "outputs": [
        {
          "output_type": "stream",
          "name": "stdout",
          "text": [
            "Enter a whole number to find Factorial: 6\n",
            "Factorial of 6 is 720\n"
          ]
        }
      ]
    },
    {
      "cell_type": "markdown",
      "source": [
        "Q14) Python Program to check a given number is even or odd."
      ],
      "metadata": {
        "id": "N_ZUy4Q9iWBY"
      }
    },
    {
      "cell_type": "code",
      "source": [
        "number = int(input(\"Enter A Number: \"))\n",
        "if (number %2 == 0):\n",
        "  print(number,\"Is An Even Number\")\n",
        "else:\n",
        "  print(number,\"Is An Odd Number\")"
      ],
      "metadata": {
        "colab": {
          "base_uri": "https://localhost:8080/"
        },
        "id": "nFImzeuBiEfM",
        "outputId": "4b603b50-ccfc-48ee-9a01-540863e91417"
      },
      "execution_count": null,
      "outputs": [
        {
          "output_type": "stream",
          "name": "stdout",
          "text": [
            "Enter A Number: 5\n",
            "5 Is An Odd Number\n"
          ]
        }
      ]
    },
    {
      "cell_type": "markdown",
      "source": [
        "Q15) Python program to print first n Prime Number."
      ],
      "metadata": {
        "id": "MWJq-84wjYhz"
      }
    },
    {
      "cell_type": "code",
      "source": [
        "number1 = int(input(\"Enter The Number: \"))\n",
        "print(\"Prime numbers: \")\n",
        "for i in range(1,number1):\n",
        "    for j in range(2,i):\n",
        "        if(i%j==0):\n",
        "            break\n",
        "    else:\n",
        "        print(i,end=' ')   "
      ],
      "metadata": {
        "colab": {
          "base_uri": "https://localhost:8080/"
        },
        "id": "1nACrzotkDm8",
        "outputId": "ee4857e2-cf89-4644-bb33-7eb64cbeb851"
      },
      "execution_count": null,
      "outputs": [
        {
          "output_type": "stream",
          "name": "stdout",
          "text": [
            "Enter The Number: 15\n",
            "Prime numbers: \n",
            "1 2 3 5 7 11 13 "
          ]
        }
      ]
    },
    {
      "cell_type": "markdown",
      "source": [
        "Q16) Python program to print Prime Number in a given range."
      ],
      "metadata": {
        "id": "adm5umZilee_"
      }
    },
    {
      "cell_type": "code",
      "source": [
        "starting_value = int(input (\"Enter Starting Value: \"))  \n",
        "ending_value = int(input (\"Enter Ending Value: \"))  \n",
        "  \n",
        "print(\"The Prime Numbers in the range are: \") \n",
        "for number in range (starting_value, ending_value + 1):  \n",
        "    if number > 1:\n",
        "        for i in range (2, number):  \n",
        "            if (number % i) == 0:  \n",
        "                break  \n",
        "        else:  \n",
        "            print (number,end=' ')  "
      ],
      "metadata": {
        "colab": {
          "base_uri": "https://localhost:8080/"
        },
        "id": "-2a-NxiTjOxx",
        "outputId": "c7de6d4d-6d82-4daa-e45c-cc5bce5329e4"
      },
      "execution_count": null,
      "outputs": [
        {
          "output_type": "stream",
          "name": "stdout",
          "text": [
            "Enter Starting Value: 5\n",
            "Enter Ending Value: 50\n",
            "The Prime Numbers in the range are: \n",
            "5 7 11 13 17 19 23 29 31 37 41 43 47 "
          ]
        }
      ]
    },
    {
      "cell_type": "markdown",
      "source": [
        "Q17) Python Program to find Smallest number among three."
      ],
      "metadata": {
        "id": "HIMXMJf4m-ec"
      }
    },
    {
      "cell_type": "code",
      "source": [
        "num1 = int(input(\"Enter Number1: \"))\n",
        "num2 = int(input(\"Enter Number2: \"))\n",
        "num3 = int(input(\"Enter Number3: \"))\n",
        "\n",
        "if num1<=num2 and num1<=num3: \n",
        "\tprint(num1, \"num1 is Smallest\")\n",
        "if num2<=num1 and num2<=num3:\n",
        "\tprint(num2, \"num2 is Smallest\")\n",
        "if num3<=num1 and num3<=num2:\n",
        "\tprint(num3, \"num3 is Smallest\") "
      ],
      "metadata": {
        "colab": {
          "base_uri": "https://localhost:8080/"
        },
        "id": "2VrvBf6Qmnmp",
        "outputId": "858b07e5-79a0-45f2-d4c9-a12cb5858ed7"
      },
      "execution_count": null,
      "outputs": [
        {
          "output_type": "stream",
          "name": "stdout",
          "text": [
            "Enter Number1: 45\n",
            "Enter Number2: 67\n",
            "Enter Number3: 4\n",
            "4 num3 is Smallest\n"
          ]
        }
      ]
    },
    {
      "cell_type": "markdown",
      "source": [
        "Q18) Python program to calculate the power using the POW method."
      ],
      "metadata": {
        "id": "gXubJYtKUPJl"
      }
    },
    {
      "cell_type": "code",
      "source": [
        "import math\n",
        "\n",
        "base = int(input(\"Enter the value for base: \"))\n",
        "exponent = int(input(\"Enter the value for exponent: \"))\n",
        "print(base,\"to power\",exponent,\"=\",end = ' ')\n",
        "print(pow(base,exponent))"
      ],
      "metadata": {
        "colab": {
          "base_uri": "https://localhost:8080/"
        },
        "id": "syPvnEjWoGr7",
        "outputId": "63d51b4a-b2e9-4305-84ca-8fcdc3e4c914"
      },
      "execution_count": null,
      "outputs": [
        {
          "output_type": "stream",
          "name": "stdout",
          "text": [
            "Enter the value for base: 4\n",
            "Enter the value for exponent: 5\n",
            "4 to power 5 = 1024\n"
          ]
        }
      ]
    },
    {
      "cell_type": "markdown",
      "source": [
        "Q19) Python Program to calculate the square of a given number."
      ],
      "metadata": {
        "id": "Gu5OecdyXlBz"
      }
    },
    {
      "cell_type": "code",
      "source": [
        "number = int(input(\"Enter the value for base: \"))\n",
        "\n",
        "print(\"Square Of\" , number , \"Is\" , pow(number,2))"
      ],
      "metadata": {
        "colab": {
          "base_uri": "https://localhost:8080/"
        },
        "id": "7_6gBokIXV_n",
        "outputId": "92562635-18f5-4c96-a5fe-43742f1800e3"
      },
      "execution_count": null,
      "outputs": [
        {
          "output_type": "stream",
          "name": "stdout",
          "text": [
            "Enter the value for base: 5\n",
            "Square Of 5 Is 25\n"
          ]
        }
      ]
    },
    {
      "cell_type": "markdown",
      "source": [
        "Q20) Python Program to calculate the cube of a given number."
      ],
      "metadata": {
        "id": "96khaFQYY8on"
      }
    },
    {
      "cell_type": "code",
      "source": [
        "number = int(input(\"Enter the value for base: \"))\n",
        "\n",
        "print(\"Cube Of\" , number , \"Is\" , pow(number,3))"
      ],
      "metadata": {
        "colab": {
          "base_uri": "https://localhost:8080/"
        },
        "id": "xrNY7E57Y2a1",
        "outputId": "9170590e-2fc0-47eb-b19c-7d721771c8a3"
      },
      "execution_count": null,
      "outputs": [
        {
          "output_type": "stream",
          "name": "stdout",
          "text": [
            "Enter the value for base: 3\n",
            "Cube Of 3 Is 27\n"
          ]
        }
      ]
    },
    {
      "cell_type": "markdown",
      "source": [
        "Q21) Python Program to calculate the square root of a given number."
      ],
      "metadata": {
        "id": "1tq9r2D6ZU3g"
      }
    },
    {
      "cell_type": "code",
      "source": [
        "import math\n",
        "number = int(input(\"Enter the value for base: \"))\n",
        "print(\"Square root Of\",number,\"is\",math.sqrt(number))"
      ],
      "metadata": {
        "colab": {
          "base_uri": "https://localhost:8080/"
        },
        "id": "9V6xk781ZKuU",
        "outputId": "41ec2727-5c79-418b-d3ba-aafa9643fe2d"
      },
      "execution_count": null,
      "outputs": [
        {
          "output_type": "stream",
          "name": "stdout",
          "text": [
            "Enter the value for base: 36\n",
            "Square root Of 36 is 6.0\n"
          ]
        }
      ]
    },
    {
      "cell_type": "markdown",
      "source": [
        "Q22) Python Program to Convert Decimal Number into Binary."
      ],
      "metadata": {
        "id": "APH7o0tKaAMH"
      }
    },
    {
      "cell_type": "code",
      "source": [
        "def decimalToBinary(n):\n",
        "    return bin(n).replace(\"0b\", \"\")\n",
        "\n",
        "number = int(input(\"Enter decimal number: \"))\n",
        "print(\"Binary to\", number , \"is\", decimalToBinary(number))"
      ],
      "metadata": {
        "colab": {
          "base_uri": "https://localhost:8080/"
        },
        "id": "qDCccdDccqYi",
        "outputId": "4ba72ac2-54ad-419c-ec67-374fe6301b6a"
      },
      "execution_count": null,
      "outputs": [
        {
          "output_type": "stream",
          "name": "stdout",
          "text": [
            "Enter decimal number: 344\n",
            "Binary to 344 is 101011000\n"
          ]
        }
      ]
    },
    {
      "cell_type": "markdown",
      "source": [
        "Q23) Python Program to convert Decimal number to Octal number."
      ],
      "metadata": {
        "id": "mpylKjKEisEf"
      }
    },
    {
      "cell_type": "code",
      "source": [
        "number = int(input(\"Enter decimal number: \"))\n",
        "print(\"Octal to\", number , \"is\", oct(number))"
      ],
      "metadata": {
        "colab": {
          "base_uri": "https://localhost:8080/"
        },
        "id": "QFmCs5nQis5F",
        "outputId": "25b75835-8639-4917-a4f9-1bf08a837d5c"
      },
      "execution_count": null,
      "outputs": [
        {
          "output_type": "stream",
          "name": "stdout",
          "text": [
            "Enter decimal number: 344\n",
            "Octal to 344 is 0o530\n"
          ]
        }
      ]
    },
    {
      "cell_type": "markdown",
      "source": [
        "Q24) Python Program to check the given year is a leap year or not."
      ],
      "metadata": {
        "id": "OE1sLLgDi0Rr"
      }
    },
    {
      "cell_type": "code",
      "source": [
        "year = int(input(\"Enter a year: \"))\n",
        "\n",
        "if((year % 400 == 0) or (year % 100 != 0) and  (year % 4 == 0)):   \n",
        "    print(\"Year\", year ,\"is a leap Year\");  \n",
        "else:  \n",
        "    print (\"Year\", year ,\"is not a leap Year\")  "
      ],
      "metadata": {
        "colab": {
          "base_uri": "https://localhost:8080/"
        },
        "id": "IE0b7tNRi05V",
        "outputId": "05e8f6d6-e547-48b6-b06f-b1e27d5dd6d4"
      },
      "execution_count": null,
      "outputs": [
        {
          "output_type": "stream",
          "name": "stdout",
          "text": [
            "Enter a year: 2005\n",
            "Year 2005 is not a leap Year\n"
          ]
        }
      ]
    },
    {
      "cell_type": "markdown",
      "source": [
        "Q25) Python Program to convert Celsius to Fahrenheit."
      ],
      "metadata": {
        "id": "pXC24eGri-2L"
      }
    },
    {
      "cell_type": "code",
      "source": [
        "temp = float(input(\"Enter temperature value in celcius: \"))\n",
        "fahrenheit = (temp * 1.8) + 32\n",
        "\n",
        "print(temp, \"'C is equivalent to\", fahrenheit, \"'F.\")"
      ],
      "metadata": {
        "colab": {
          "base_uri": "https://localhost:8080/"
        },
        "id": "tlDqcFHejA4W",
        "outputId": "e9ef7d74-c594-4ed4-baf7-8fd056e63dd2"
      },
      "execution_count": null,
      "outputs": [
        {
          "output_type": "stream",
          "name": "stdout",
          "text": [
            "Enter temperature value in celcius: 25\n",
            "25.0 'C is equivalent to 77.0 'F.\n"
          ]
        }
      ]
    },
    {
      "cell_type": "markdown",
      "source": [
        "Q26) Python Program to convert Fahrenheit to Celsius."
      ],
      "metadata": {
        "id": "BI7P3hSljJuk"
      }
    },
    {
      "cell_type": "code",
      "source": [
        "temp = float(input(\"Enter temperature value in fahrenheit: \"))\n",
        "celsius = (temp - 32) * 5/9\n",
        "\n",
        "print(temp, \"'F is equivalent to\", celsius, \"'C.\")"
      ],
      "metadata": {
        "colab": {
          "base_uri": "https://localhost:8080/"
        },
        "id": "nXHIBHYEjKc6",
        "outputId": "f1e3e5a7-485b-4b0d-f9ee-54609ef08d00"
      },
      "execution_count": null,
      "outputs": [
        {
          "output_type": "stream",
          "name": "stdout",
          "text": [
            "Enter temperature value in fahrenheit: 77\n",
            "77.0 'F is equivalent to 25.0 'C.\n"
          ]
        }
      ]
    }
  ]
}